{
 "cells": [
  {
   "cell_type": "code",
   "execution_count": 3,
   "metadata": {
    "collapsed": true
   },
   "outputs": [
    {
     "ename": "ModuleNotFoundError",
     "evalue": "No module named 'ultralytics'",
     "output_type": "error",
     "traceback": [
      "\u001B[0;31m---------------------------------------------------------------------------\u001B[0m",
      "\u001B[0;31mModuleNotFoundError\u001B[0m                       Traceback (most recent call last)",
      "Cell \u001B[0;32mIn[3], line 1\u001B[0m\n\u001B[0;32m----> 1\u001B[0m \u001B[38;5;28;01mfrom\u001B[39;00m \u001B[38;5;21;01multralytics\u001B[39;00m \u001B[38;5;28;01mimport\u001B[39;00m YOLO\n\u001B[1;32m      3\u001B[0m \u001B[38;5;66;03m# Load a pretrained YOLOv8n model\u001B[39;00m\n\u001B[1;32m      4\u001B[0m model \u001B[38;5;241m=\u001B[39m YOLO(\u001B[38;5;124m'\u001B[39m\u001B[38;5;124myolov8n.pt\u001B[39m\u001B[38;5;124m'\u001B[39m)\n",
      "\u001B[0;31mModuleNotFoundError\u001B[0m: No module named 'ultralytics'"
     ]
    }
   ],
   "source": [
    "from ultralytics import YOLO\n",
    "\n",
    "# Load a pretrained YOLOv8n model\n",
    "model = YOLO('yolov8n.pt')\n",
    "\n",
    "# Define path to video file\n",
    "source = 'path/to/video.mp4'\n",
    "\n",
    "# Run inference on the source\n",
    "results = model(source, stream=True)  # generator of Results objects"
   ]
  },
  {
   "cell_type": "code",
   "execution_count": 2,
   "outputs": [
    {
     "name": "stdout",
     "output_type": "stream",
     "text": [
      "Requirement already satisfied: ultralytics in /usr/local/Caskroom/miniconda/base/envs/vax_av_labels/lib/python3.8/site-packages (8.0.215)\r\n",
      "Requirement already satisfied: matplotlib>=3.3.0 in /usr/local/Caskroom/miniconda/base/envs/vax_av_labels/lib/python3.8/site-packages (from ultralytics) (3.7.3)\r\n",
      "Requirement already satisfied: numpy>=1.22.2 in /usr/local/Caskroom/miniconda/base/envs/vax_av_labels/lib/python3.8/site-packages (from ultralytics) (1.23.5)\r\n",
      "Requirement already satisfied: opencv-python>=4.6.0 in /usr/local/Caskroom/miniconda/base/envs/vax_av_labels/lib/python3.8/site-packages (from ultralytics) (4.8.1.78)\r\n",
      "Requirement already satisfied: pillow>=7.1.2 in /usr/local/Caskroom/miniconda/base/envs/vax_av_labels/lib/python3.8/site-packages (from ultralytics) (9.4.0)\r\n",
      "Requirement already satisfied: pyyaml>=5.3.1 in /usr/local/Caskroom/miniconda/base/envs/vax_av_labels/lib/python3.8/site-packages (from ultralytics) (6.0.1)\r\n",
      "Requirement already satisfied: requests>=2.23.0 in /usr/local/Caskroom/miniconda/base/envs/vax_av_labels/lib/python3.8/site-packages (from ultralytics) (2.31.0)\r\n",
      "Requirement already satisfied: scipy>=1.4.1 in /usr/local/Caskroom/miniconda/base/envs/vax_av_labels/lib/python3.8/site-packages (from ultralytics) (1.10.1)\r\n",
      "Requirement already satisfied: torch>=1.8.0 in /usr/local/Caskroom/miniconda/base/envs/vax_av_labels/lib/python3.8/site-packages (from ultralytics) (1.13.1)\r\n",
      "Requirement already satisfied: torchvision>=0.9.0 in /usr/local/Caskroom/miniconda/base/envs/vax_av_labels/lib/python3.8/site-packages (from ultralytics) (0.14.1)\r\n",
      "Requirement already satisfied: tqdm>=4.64.0 in /usr/local/Caskroom/miniconda/base/envs/vax_av_labels/lib/python3.8/site-packages (from ultralytics) (4.65.2)\r\n",
      "Requirement already satisfied: pandas>=1.1.4 in /usr/local/Caskroom/miniconda/base/envs/vax_av_labels/lib/python3.8/site-packages (from ultralytics) (1.3.5)\r\n",
      "Requirement already satisfied: seaborn>=0.11.0 in /usr/local/Caskroom/miniconda/base/envs/vax_av_labels/lib/python3.8/site-packages (from ultralytics) (0.13.0)\r\n",
      "Requirement already satisfied: psutil in /usr/local/Caskroom/miniconda/base/envs/vax_av_labels/lib/python3.8/site-packages (from ultralytics) (5.9.5)\r\n",
      "Requirement already satisfied: py-cpuinfo in /usr/local/Caskroom/miniconda/base/envs/vax_av_labels/lib/python3.8/site-packages (from ultralytics) (9.0.0)\r\n",
      "Requirement already satisfied: thop>=0.1.1 in /usr/local/Caskroom/miniconda/base/envs/vax_av_labels/lib/python3.8/site-packages (from ultralytics) (0.1.1.post2209072238)\r\n",
      "Requirement already satisfied: contourpy>=1.0.1 in /usr/local/Caskroom/miniconda/base/envs/vax_av_labels/lib/python3.8/site-packages (from matplotlib>=3.3.0->ultralytics) (1.1.1)\r\n",
      "Requirement already satisfied: cycler>=0.10 in /usr/local/Caskroom/miniconda/base/envs/vax_av_labels/lib/python3.8/site-packages (from matplotlib>=3.3.0->ultralytics) (0.12.0)\r\n",
      "Requirement already satisfied: fonttools>=4.22.0 in /usr/local/Caskroom/miniconda/base/envs/vax_av_labels/lib/python3.8/site-packages (from matplotlib>=3.3.0->ultralytics) (4.43.0)\r\n",
      "Requirement already satisfied: kiwisolver>=1.0.1 in /usr/local/Caskroom/miniconda/base/envs/vax_av_labels/lib/python3.8/site-packages (from matplotlib>=3.3.0->ultralytics) (1.4.5)\r\n",
      "Requirement already satisfied: packaging>=20.0 in /usr/local/Caskroom/miniconda/base/envs/vax_av_labels/lib/python3.8/site-packages (from matplotlib>=3.3.0->ultralytics) (23.1)\r\n",
      "Requirement already satisfied: pyparsing>=2.3.1 in /usr/local/Caskroom/miniconda/base/envs/vax_av_labels/lib/python3.8/site-packages (from matplotlib>=3.3.0->ultralytics) (3.1.1)\r\n",
      "Requirement already satisfied: python-dateutil>=2.7 in /usr/local/Caskroom/miniconda/base/envs/vax_av_labels/lib/python3.8/site-packages (from matplotlib>=3.3.0->ultralytics) (2.8.2)\r\n",
      "Requirement already satisfied: importlib-resources>=3.2.0 in /usr/local/Caskroom/miniconda/base/envs/vax_av_labels/lib/python3.8/site-packages (from matplotlib>=3.3.0->ultralytics) (6.1.0)\r\n",
      "Requirement already satisfied: pytz>=2017.3 in /usr/local/Caskroom/miniconda/base/envs/vax_av_labels/lib/python3.8/site-packages (from pandas>=1.1.4->ultralytics) (2023.3.post1)\r\n",
      "Requirement already satisfied: charset-normalizer<4,>=2 in /usr/local/Caskroom/miniconda/base/envs/vax_av_labels/lib/python3.8/site-packages (from requests>=2.23.0->ultralytics) (2.0.4)\r\n",
      "Requirement already satisfied: idna<4,>=2.5 in /usr/local/Caskroom/miniconda/base/envs/vax_av_labels/lib/python3.8/site-packages (from requests>=2.23.0->ultralytics) (3.4)\r\n",
      "Requirement already satisfied: urllib3<3,>=1.21.1 in /usr/local/Caskroom/miniconda/base/envs/vax_av_labels/lib/python3.8/site-packages (from requests>=2.23.0->ultralytics) (1.26.16)\r\n",
      "Requirement already satisfied: certifi>=2017.4.17 in /usr/local/Caskroom/miniconda/base/envs/vax_av_labels/lib/python3.8/site-packages (from requests>=2.23.0->ultralytics) (2023.7.22)\r\n",
      "Requirement already satisfied: typing_extensions in /usr/local/Caskroom/miniconda/base/envs/vax_av_labels/lib/python3.8/site-packages (from torch>=1.8.0->ultralytics) (4.7.1)\r\n",
      "Requirement already satisfied: zipp>=3.1.0 in /usr/local/Caskroom/miniconda/base/envs/vax_av_labels/lib/python3.8/site-packages (from importlib-resources>=3.2.0->matplotlib>=3.3.0->ultralytics) (3.17.0)\r\n",
      "Requirement already satisfied: six>=1.5 in /usr/local/Caskroom/miniconda/base/envs/vax_av_labels/lib/python3.8/site-packages (from python-dateutil>=2.7->matplotlib>=3.3.0->ultralytics) (1.16.0)\r\n"
     ]
    }
   ],
   "source": [
    "!pip install ultralytics"
   ],
   "metadata": {
    "collapsed": false
   }
  },
  {
   "cell_type": "code",
   "execution_count": null,
   "outputs": [],
   "source": [],
   "metadata": {
    "collapsed": false
   }
  }
 ],
 "metadata": {
  "kernelspec": {
   "display_name": "Python 3",
   "language": "python",
   "name": "python3"
  },
  "language_info": {
   "codemirror_mode": {
    "name": "ipython",
    "version": 2
   },
   "file_extension": ".py",
   "mimetype": "text/x-python",
   "name": "python",
   "nbconvert_exporter": "python",
   "pygments_lexer": "ipython2",
   "version": "2.7.6"
  }
 },
 "nbformat": 4,
 "nbformat_minor": 0
}
